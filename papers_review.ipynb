{
 "cells": [
  {
   "cell_type": "code",
   "execution_count": null,
   "metadata": {},
   "outputs": [],
   "source": []
  },
  {
   "cell_type": "markdown",
   "metadata": {},
   "source": [
    "# NISQ algorithms\n"
   ]
  },
  {
   "cell_type": "markdown",
   "metadata": {},
   "source": [
    "# QML frameworks\n"
   ]
  },
  {
   "cell_type": "markdown",
   "metadata": {},
   "source": [
    "# Contextuality and the inductive bias\n"
   ]
  },
  {
   "cell_type": "markdown",
   "metadata": {},
   "source": [
    "# Qantum Recurrent Unit on Gaussian platform\n"
   ]
  },
  {
   "cell_type": "markdown",
   "metadata": {},
   "source": [
    "# Cathegory theory and ZX-calculus\n"
   ]
  },
  {
   "cell_type": "markdown",
   "metadata": {},
   "source": [
    "# Sentence grammar to Quantum Circuit translation.\n"
   ]
  },
  {
   "cell_type": "markdown",
   "metadata": {},
   "source": [
    "# Quantum Graph models review\n",
    "\n",
    "## All subgraphs model\n",
    "\n",
    "All subgraphs quantum graph model for graph classification was introduced in paper \"Graph kernels encoding features of all subgraphs by quantum superposition\" (Kishi et al. 2022). \n",
    "The model is kernel based. It embeds graph into state vector in hilbert space, and than classification is done using standard [SVM kernel trick](https://en.wikipedia.org/wiki/Support_vector_machine). The kernel is just Gram matrix of embeddings in hilbert space. \n",
    "\n",
    "### Graph embedding\n",
    "\n",
    "The main idea is to embed simple properties of a subgraph, like number of vertices or number of edges, into quantum state. Due to properties of quantum computer, qubits can store instantly such information about every subgraph of the embedded graph in the form of superposition.\n",
    "And furthermore, due to linearity of quantum operators this embedding can be evaluated in parallel for all subgraphs. \n",
    "This is called the quantum oracle and this technic is widely used in famous quantum algorithms. In Shor algorithm quantum parallelism is used to raise the same number in multiple powers encoded in superposition to get superposition of the results.\n",
    "$$|0\\rangle + |1\\rangle + |2\\rangle + ... → |a^0\\rangle + |a^1\\rangle + |a^2\\rangle + ...  $$    \n",
    "Likewise in this algorithm exponential speedup is achieved, as computations are done instantly for all $2^{\\#Edges}$ possible subgraphs.\n",
    "\n",
    "In such embedding big scalar product will mean, that graphs have many pairs of subgraphs with the same properties.\n",
    "\n",
    "## Reference:\n",
    "Kishi, Kaito, Takahiko Satoh, Rudy Raymond, Naoki Yamamoto, and Yasubumi Sakakibara. 2022. “Graph Kernels Encoding Features of All Subgraphs by Quantum Superposition.” IEEE Journal on Emerging and Selected Topics in Circuits and Systems 12 (3): 602–13. https://doi.org/10.1109/JETCAS.2022.3200837."
   ]
  },
  {
   "cell_type": "markdown",
   "metadata": {},
   "source": [
    "\n",
    "# Generative models"
   ]
  }
 ],
 "metadata": {
  "language_info": {
   "name": "python"
  },
  "orig_nbformat": 4
 },
 "nbformat": 4,
 "nbformat_minor": 2
}
