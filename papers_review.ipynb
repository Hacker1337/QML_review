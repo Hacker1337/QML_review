{
 "cells": [
  {
   "cell_type": "code",
   "execution_count": null,
   "metadata": {},
   "outputs": [],
   "source": []
  },
  {
   "cell_type": "markdown",
   "metadata": {},
   "source": [
    "# NISQ algorithms\n"
   ]
  },
  {
   "cell_type": "markdown",
   "metadata": {},
   "source": [
    "# QML frameworks\n"
   ]
  },
  {
   "cell_type": "markdown",
   "metadata": {},
   "source": [
    "# Contextuality and the inductive bias\n"
   ]
  },
  {
   "cell_type": "markdown",
   "metadata": {},
   "source": [
    "# Qantum Recurrent Unit on Gaussian platform\n"
   ]
  },
  {
   "cell_type": "markdown",
   "metadata": {},
   "source": [
    "# Cathegory theory and ZX-calculus\n"
   ]
  },
  {
   "cell_type": "markdown",
   "metadata": {},
   "source": [
    "# Sentence grammar to Quantum Circuit translation.\n"
   ]
  },
  {
   "cell_type": "markdown",
   "metadata": {},
   "source": [
    "# Quantum Graph models review\n",
    "\n",
    "todo insert table with classical datasets results for different models\n",
    "\n",
    "## All subgraphs model\n",
    "\n",
    "All subgraphs quantum graph model for graph classification was introduced in paper \"Graph kernels encoding features of all subgraphs by quantum superposition\" (Kishi et al. 2022). \n",
    "The model is kernel based. It embeds graph into state vector in hilbert space, and than classification is done using standard [SVM kernel trick](https://en.wikipedia.org/wiki/Support_vector_machine). The kernel is just Gram matrix of embeddings in hilbert space. \n",
    "\n",
    "### Graph embedding\n",
    "\n",
    "The main idea is to embed simple properties of a subgraph, like number of vertices or number of edges, into quantum state. Due to properties of quantum computer, qubits can store instantly such information about every subgraph of the embedded graph in the form of superposition.\n",
    "And furthermore, due to linearity of quantum operators this embedding can be evaluated in parallel for all subgraphs. \n",
    "This is called the quantum oracle and this technic is widely used in famous quantum algorithms. In Shor algorithm quantum parallelism is used to raise the same number in multiple powers encoded in superposition to get superposition of the results.\n",
    "$$|0\\rangle + |1\\rangle + |2\\rangle + ... → |a^0\\rangle + |a^1\\rangle + |a^2\\rangle + ...  $$    \n",
    "Likewise in this algorithm exponential speedup is achieved, as computations are done instantly for all $2^{\\#Edges}$ possible subgraphs.\n",
    "\n",
    "In such embedding big scalar product will mean, that graphs have many pairs of subgraphs with the same properties.\n",
    "\n",
    "## Reference:\n",
    "Kishi, Kaito, Takahiko Satoh, Rudy Raymond, Naoki Yamamoto, and Yasubumi Sakakibara. 2022. “Graph Kernels Encoding Features of All Subgraphs by Quantum Superposition.” IEEE Journal on Emerging and Selected Topics in Circuits and Systems 12 (3): 602–13. https://doi.org/10.1109/JETCAS.2022.3200837.\n",
    "\n",
    "## Gaussian Boson Sampling Graph model\n",
    "\n",
    "This graph model was proposed by Xanadu company in (Schuld et al. 2020).\n",
    "Gaussian boson sampling is an analog of the boson sampling circuit, but for optical, or so called continuous variable quantum platform. Boson sampling is mostly famous for being one of the first circuits to demonstrate quantum advantage  (Arute et al. 2019). And it wasn't intended to do something practically useful.\n",
    "\n",
    "![GBS circuit](img/gbs_circuit2.png) \\\n",
    "picture from [pennylane demo](https://pennylane.ai/qml/demos/gbs#id1)\n",
    "\n",
    "In photonic quantum computer each memory/computational unit is not a system with 2 possible energy level, but the quantum harmonic oscillator with countable set of energy levels. And simple family of possible states of each channel is gaussian state. \n",
    "\n",
    "Gaussian boson sampling circuit consist of the input, which is squeezing and displacing of gaussian's states. Then there is constant beam splitters part. And finally in the end numbers of detected photons for each channel is counted ($n_1$, $n_2$, $n_3$, ...)\n",
    "\n",
    "Theory says that probability of getting specific outcome of running GBS circuit is defined by\n",
    "\n",
    "$$P\\left(n_1, n_2 \\ldots n_m\\right)=\\frac{1}{\\operatorname{det}(Q)} \\frac{\\operatorname{Haf}\\left(A_s\\right)}{\\sqrt{n_{1} ! n_{2} ! \\cdots n_{m} !}}$$\n",
    "where all the matrices are defined in terms of the covariance matrix of the gaussian state $\\Sigma$ :\n",
    "\n",
    "$$\n",
    "\\begin{array}{r}\n",
    "Q=\\Sigma+\\mathbb{1} / 2 \\\\\n",
    "A=X\\left(\\mathbb{1}-Q^{-1}\\right) \\\\\n",
    "X=\\left[\\begin{array}{ll}\n",
    "0 & \\mathbb{1} \\\\\n",
    "\\mathbb{1} & 0\n",
    "\\end{array}\\right]\n",
    "\\end{array}\n",
    "$$\n",
    "\n",
    "The $A_s$ matrix is a matrix created from $A$ such that if $n_i=0$, we delete the rows and colums $i$ and $i+m$ of the matrix, and if $n_i \\neq 0$, we repeat the rows and columns $n_i$ times.\n",
    "\n",
    "Hafnian function can be determined mathematically for any symmetric matrix $C$ as\n",
    "\n",
    "$$\n",
    "\\operatorname{haf}(C)=\\sum_{\\pi \\in P_N^{\\{2\\}}} \\prod_{(u, v) \\in \\pi} C_{u, v} .\n",
    "$$\n",
    "Here, $P_N^{\\{2\\}}$ is the set of all $N ! /\\left((N / 2) ! 2^{N / 2}\\right)$ ways to partition the index set $\\{1,2, \\ldots, N\\}$ into $N / 2$ unordered pairs of size 2 , such that each index only appears in one pair. \n",
    "\n",
    "In case of applying GBS for graphs more interesting is case, when C is graph adjacency matrix. This lead to more simple interpretation of hafnian as a number of perfect matchings in the graph G. \n",
    "\n",
    "A perfect matching is a subset of edges such that every node is covered by exactly one of the edges. The Hafnian therefore sums the products of the edge weights in all perfect matchings. If all edge weights are constant, it simply counts the number of perfect matchings in G.\n",
    "\n",
    "Therefore this algorithm uses some meaningful graph property for extracting features from the graph. As hafnian computing is a hard task for classical computer, this gives a potential for quantum supremacy.\n",
    "\n",
    "Finally probabilities of obtaining specific result of gaussian boson sampling are used as a features for SVM kernel to solve classification tasks.\n",
    "\n",
    "\n",
    "## Reference:\n",
    "Schuld, Maria, Kamil Brádler, Robert Israel, Daiqin Su, and Brajesh Gupt. 2020. “Measuring the Similarity of Graphs with a Gaussian Boson Sampler.” Physical Review A 101 (3): 032314. https://doi.org/10.1103/PhysRevA.101.032314.\n",
    "\n",
    "Arute, Frank, Kunal Arya, Ryan Babbush, Dave Bacon, Joseph C. Bardin, Rami Barends, Rupak Biswas, et al. 2019. “Quantum Supremacy Using a Programmable Superconducting Processor.” Nature 574 (7779): 505–10. https://doi.org/10.1038/s41586-019-1666-5.\n",
    "\n"
   ]
  },
  {
   "cell_type": "markdown",
   "metadata": {},
   "source": [
    "\n",
    "# Generative models"
   ]
  }
 ],
 "metadata": {
  "language_info": {
   "name": "python"
  },
  "orig_nbformat": 4
 },
 "nbformat": 4,
 "nbformat_minor": 2
}
